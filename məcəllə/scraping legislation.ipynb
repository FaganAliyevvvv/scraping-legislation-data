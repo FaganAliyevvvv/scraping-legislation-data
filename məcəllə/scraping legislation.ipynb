{
 "cells": [
  {
   "cell_type": "code",
   "execution_count": 1,
   "id": "4fd16a98",
   "metadata": {},
   "outputs": [],
   "source": [
    "import pandas as pd\n",
    "import numpy as np\n",
    "import matplotlib.pyplot \n",
    "import seaborn as sns\n",
    "import time\n",
    "from selenium import webdriver\n",
    "from bs4 import BeautifulSoup"
   ]
  },
  {
   "cell_type": "code",
   "execution_count": 2,
   "id": "7aa5f735",
   "metadata": {},
   "outputs": [],
   "source": [
    "url = \"https://www.taxes.gov.az/az/page/ar-vergi-mecellesi\""
   ]
  },
  {
   "cell_type": "code",
   "execution_count": 3,
   "id": "e3fe9867",
   "metadata": {},
   "outputs": [],
   "source": [
    "driver = webdriver.Edge()\n",
    "driver.get(url)\n",
    "time.sleep(5)\n",
    "driver.execute_script(\"window.scrollTo(0, document.body.scrollHeight);\")\n",
    "time.sleep(10)\n",
    "html = driver.page_source\n",
    "driver.quit()\n",
    "trainings_soup = BeautifulSoup(html,'html.parser')"
   ]
  },
  {
   "cell_type": "code",
   "execution_count": 4,
   "id": "f71588db",
   "metadata": {},
   "outputs": [],
   "source": [
    "sentences = ' '\n",
    "page = trainings_soup.findAll('div',attrs={\"id\":\"page_container\"})\n",
    "for trainings_name in page:\n",
    "    sentences += trainings_name.text"
   ]
  },
  {
   "cell_type": "code",
   "execution_count": 5,
   "id": "913f0af6",
   "metadata": {},
   "outputs": [],
   "source": [
    "sentences = sentences.split(\"\\n\")"
   ]
  },
  {
   "cell_type": "code",
   "execution_count": 6,
   "id": "95733212",
   "metadata": {},
   "outputs": [],
   "source": [
    "pd.set_option('display.max_colwidth', None)"
   ]
  },
  {
   "cell_type": "code",
   "execution_count": 7,
   "id": "04ea38c9",
   "metadata": {
    "scrolled": true
   },
   "outputs": [
    {
     "data": {
      "text/plain": [
       "(4580, 1)"
      ]
     },
     "execution_count": 7,
     "metadata": {},
     "output_type": "execute_result"
    }
   ],
   "source": [
    "df = pd.DataFrame(sentences)\n",
    "df.shape"
   ]
  },
  {
   "cell_type": "code",
   "execution_count": 8,
   "id": "6b322f87",
   "metadata": {},
   "outputs": [
    {
     "data": {
      "text/plain": [
       "(3423, 1)"
      ]
     },
     "execution_count": 8,
     "metadata": {},
     "output_type": "execute_result"
    }
   ],
   "source": [
    "df = df.drop_duplicates()\n",
    "df.shape"
   ]
  },
  {
   "cell_type": "code",
   "execution_count": 9,
   "id": "c4a070c1",
   "metadata": {},
   "outputs": [],
   "source": [
    "df.columns=['Vergi']"
   ]
  },
  {
   "cell_type": "code",
   "execution_count": 10,
   "id": "8f04838e",
   "metadata": {},
   "outputs": [
    {
     "data": {
      "text/plain": [
       "(3423, 1)"
      ]
     },
     "execution_count": 10,
     "metadata": {},
     "output_type": "execute_result"
    }
   ],
   "source": [
    "df = df.dropna()\n",
    "df.shape"
   ]
  },
  {
   "cell_type": "code",
   "execution_count": 11,
   "id": "e749ac91",
   "metadata": {},
   "outputs": [
    {
     "data": {
      "text/html": [
       "<div>\n",
       "<style scoped>\n",
       "    .dataframe tbody tr th:only-of-type {\n",
       "        vertical-align: middle;\n",
       "    }\n",
       "\n",
       "    .dataframe tbody tr th {\n",
       "        vertical-align: top;\n",
       "    }\n",
       "\n",
       "    .dataframe thead th {\n",
       "        text-align: right;\n",
       "    }\n",
       "</style>\n",
       "<table border=\"1\" class=\"dataframe\">\n",
       "  <thead>\n",
       "    <tr style=\"text-align: right;\">\n",
       "      <th></th>\n",
       "      <th>Vergi</th>\n",
       "    </tr>\n",
       "  </thead>\n",
       "  <tbody>\n",
       "    <tr>\n",
       "      <th>0</th>\n",
       "      <td></td>\n",
       "    </tr>\n",
       "    <tr>\n",
       "      <th>1</th>\n",
       "      <td>Azərbaycan Respublikasının</td>\n",
       "    </tr>\n",
       "    <tr>\n",
       "      <th>2</th>\n",
       "      <td>Vergi Məcəlləsi</td>\n",
       "    </tr>\n",
       "    <tr>\n",
       "      <th>3</th>\n",
       "      <td></td>\n",
       "    </tr>\n",
       "    <tr>\n",
       "      <th>4</th>\n",
       "      <td>Ümumi hissə</td>\n",
       "    </tr>\n",
       "    <tr>\n",
       "      <th>5</th>\n",
       "      <td>I fəsil</td>\n",
       "    </tr>\n",
       "    <tr>\n",
       "      <th>6</th>\n",
       "      <td>Ümumi müddəalar</td>\n",
       "    </tr>\n",
       "    <tr>\n",
       "      <th>7</th>\n",
       "      <td>Maddə 1. Azərbaycan Respublikasının Vergi Məcəlləsi ilə tənzimlənən münasibətlər</td>\n",
       "    </tr>\n",
       "    <tr>\n",
       "      <th>8</th>\n",
       "      <td>1.1. Azərbaycan Respublikasının Vergi Məcəlləsi Azərbaycan Respublikasında vergi sistemini, vergitutmanın ümumi əsaslarını, vergilərin müəyyən edilməsi, ödənilməsi və yığılması qaydalarını, vergi ödəyicilərinin və dövlət vergi orqanlarının, habelə vergi münasibətlərinin digər iştirakçılarının vergitutma məsələləri ilə bağlı hüquq və vəzifələrini, vergi nəzarətinin forma və metodlarını, vergi qanunvericiliyinin pozulmasına görə məsuliyyəti, dövlət vergi orqanlarının və onların vəzifəli şəxslərinin hərəkətlərindən (hərəkətsizliyindən) şikayət edilməsi qaydalarını müəyyən edir.</td>\n",
       "    </tr>\n",
       "    <tr>\n",
       "      <th>9</th>\n",
       "      <td>1.2. Bu Məcəllə ilə Naxçıvan Muxtar Respublikasında və bələdiyyələrdə vergitutmanın ümumi əsasları və vergilər müəyyən edilir.</td>\n",
       "    </tr>\n",
       "    <tr>\n",
       "      <th>10</th>\n",
       "      <td>1.3. Bu Məcəllə ilə müəyyən olunan anlayışlar və qaydalar vergitutma məqsədi ilə müəyyən edilir və müstəsna olaraq bu Məcəllə və onun əsasında qəbul edilmiş digər normativ hüquqi aktlar ilə tənzimlənən vergitutma və vergi nəzarəti ilə bağlı münasibətlər hüdudlarında tətbiq olunur.</td>\n",
       "    </tr>\n",
       "    <tr>\n",
       "      <th>11</th>\n",
       "      <td>1.4. Bu Məcəllənin vergitutmanın ümumi əsasları, vergilərin ödənilməsi qaydaları (ödənilməsi mənbələri istisna olmaqla), vergi ödəyicilərinin və dövlət vergi orqanlarının, habelə vergi münasibətlərinin digər iştirakçılarının vergitutma məsələləri ilə bağlı hüquq və vəzifələri, vergi nəzarətinin forma və metodları, vergi qanunvericiliyinin pozulmasına görə məsuliyyət, dövlət vergi orqanlarının və onların vəzifəli şəxslərinin hərəkətlərindən (hərəkətsizliyindən) şikayət edilməsi qaydaları ilə bağlı müddəaları məcburi dövlət sosial sığorta haqqı, icbari tibbi sığorta haqqı və işsizlikdən sığorta haqqına münasibətdə də tətbiq olunur.</td>\n",
       "    </tr>\n",
       "    <tr>\n",
       "      <th>12</th>\n",
       "      <td>Maddə 2. Azərbaycan Respublikasının vergi qanunvericiliyi</td>\n",
       "    </tr>\n",
       "    <tr>\n",
       "      <th>13</th>\n",
       "      <td>2.1. Azərbaycan Respublikasının vergi qanunvericiliyi Azərbaycan Respublikasının Konstitusiyasından, bu Məcəllədən və onlara uyğun olaraq qəbul edilmiş Azərbaycan Respublikasının qanunvericilik aktlarından ibarətdir.</td>\n",
       "    </tr>\n",
       "    <tr>\n",
       "      <th>14</th>\n",
       "      <td>2.2. Bu Məcəllənin əsasında və ya onun icrası məqsədi ilə qəbul edilmiş normativ hüquqi aktlar bu Məcəllənin müddəalarına zidd olmamalıdır.</td>\n",
       "    </tr>\n",
       "    <tr>\n",
       "      <th>15</th>\n",
       "      <td>2.3. Vergi qanunvericiliyi aktları ilə digər sahə qanunvericilik aktları arasında bu Məcəllənin 2.7-ci maddəsində nəzərdə tutulan hallar istisna olmaqla, vergitutma və vergi nəzarəti məsələləri üzrə ziddiyyət yarandıqda, vergi qanunvericiliyinin aktları tətbiq edilir.</td>\n",
       "    </tr>\n",
       "    <tr>\n",
       "      <th>16</th>\n",
       "      <td>2.4. Aşağıdakılar istisna olunmaqla, vergi qanunvericiliyindən başqa digər qanunvericilik aktlarına vergitutma və vergi nəzarəti məsələləri daxil edilə bilməz:</td>\n",
       "    </tr>\n",
       "    <tr>\n",
       "      <th>17</th>\n",
       "      <td>2.4.1. Azərbaycan Respublikasının İnzibati Xətalar Məcəlləsində nəzərdə tutulan vergi münasibətlərinə aid inzibati xətalar haqqında müddəalar;</td>\n",
       "    </tr>\n",
       "    <tr>\n",
       "      <th>18</th>\n",
       "      <td>2.4.2. Azərbaycan Respublikasının Cinayət Məcəlləsində nəzərdə tutulan vergi cinayətləri haqqında müddəalar;</td>\n",
       "    </tr>\n",
       "    <tr>\n",
       "      <th>19</th>\n",
       "      <td>2.4.3. vergi öhdəliklərinin üstünlüyü haqqında müflisləşmə və iflas haqqında qanunvericilikdə nəzərdə tutulan müddəalar;</td>\n",
       "    </tr>\n",
       "    <tr>\n",
       "      <th>20</th>\n",
       "      <td>2.4.4. büdcə qanunvericiliyində vergilərlə bağlı müddəalar;</td>\n",
       "    </tr>\n",
       "    <tr>\n",
       "      <th>21</th>\n",
       "      <td>2.4.5. vergilər üzrə dövlət təminatlarının verilməsi ilə bağlı müddəalar;</td>\n",
       "    </tr>\n",
       "    <tr>\n",
       "      <th>22</th>\n",
       "      <td>2.4.6. hasilatın pay bölgüsü haqqında, əsas boru kəməri haqqında və digər bu qəbildən olan sazişlərdə və ya qanunlarda nəzərdə tutulan müddəalar.</td>\n",
       "    </tr>\n",
       "    <tr>\n",
       "      <th>23</th>\n",
       "      <td>2.4.7. İxrac məqsədli neft-qaz fəaliyyəti və xüsusi iqtisadi zonalar haqqında qanunlarda nəzərdə tutulan müddəalar.</td>\n",
       "    </tr>\n",
       "    <tr>\n",
       "      <th>24</th>\n",
       "      <td>2.4.8. “Sahibkarlıq sahəsində aparılan yoxlamaların tənzimlənməsi və sahibkarların maraqlarının müdafiəsi haqqında” Azərbaycan Respublikasının Qanununda vergi yoxlamaları (kameral vergi yoxlamaları istisna olmaqla) haqqında nəzərdə tutulan müddəalar;</td>\n",
       "    </tr>\n",
       "    <tr>\n",
       "      <th>25</th>\n",
       "      <td>2.4.9. “Ələt azad iqtisadi zonası haqqında” Azərbaycan Respublikası Qanununda nəzərdə tutulmuş müddəalar.</td>\n",
       "    </tr>\n",
       "    <tr>\n",
       "      <th>26</th>\n",
       "      <td>2.4-1. Vergi azadolmalarının və güzəştlərinin verilməsi ilə bağlı müddəalar yalnız bu Məcəllə ilə müəyyənləşdirilir. Bu Məcəllədən başqa digər normativ hüquqi aktlarda, o cümlədən bu Məcəllənin 2.4-cü maddəsində (bu Məcəllənin 2.4.9-cu maddəsi istisna olmaqla) göstərilən normativ hüquqi aktlarda vergi azadolmaları və güzəştləri ilə bağlı müddəalar nəzərdə tutula bilməz. Sahibkarlıq və investisiya fəaliyyətini təşviq edən vergi azadolmaları və güzəştləri fərdi xarakter daşımamalıdır.</td>\n",
       "    </tr>\n",
       "    <tr>\n",
       "      <th>27</th>\n",
       "      <td>2.5. Azərbaycan Respublikasının tərəfdar çıxdığı beynəlxalq müqavilələrdə vergilər haqqında bu Məcəllə ilə və ona müvafiq olaraq qəbul edilmiş normativ hüquqi aktlarla nəzərdə tutulmuş müddəalardan fərqli müddəalar müəyyən edildikdə, həmin beynəlxalq müqavilələrin müddəaları tətbiq edilir.</td>\n",
       "    </tr>\n",
       "    <tr>\n",
       "      <th>28</th>\n",
       "      <td>2.6. Azərbaycan Respublikasının tərəfdar çıxdığı ikiqat vergitutmanın aradan qaldırılması haqqında beynəlxalq müqavilə ilə bu müqavilə bağlanan dövlətin rezidentinə verilən vergi güzəştlərinə və üstünlüklərinə münasibətdə, münasibətdə vergidən yayınma məqsədilə istifadə edilirsə, o cümlədən həmin müqavilə onu bağlamış dövlətin rezidenti olmayan şəxs tərəfindən qeyd edilən güzəştlərin və üstünlüklərin alınması üçün istifadə edilirsə, bu Məcəllənin 2.5-ci maddəsinin müddəaları tətbiq olunmur.</td>\n",
       "    </tr>\n",
       "    <tr>\n",
       "      <th>29</th>\n",
       "      <td>2.7. Bu Məcəllə qüvvəyə minənədək və ya o, qüvvəyə mindikdən sonra qanunla təsdiq olunmuş hasilatın pay bölgüsü haqqında, əsas boru kəməri haqqında və digər bu qəbildən olan sazişlərdə və ya qanunlarda, o cümlədən neft və qaz haqqında, ixrac məqsədli neft-qaz fəaliyyəti və xüsusi iqtisadi zonalar haqqında qanunlarda bu Məcəllədə və vergilər haqqında digər normativ hüquqi aktlarda nəzərdə tutulmuş müddəalardan fərqli müddəalar müəyyən edildikdə, həmin sazişlərin və ya qanunların müddəaları tətbiq edilir.</td>\n",
       "    </tr>\n",
       "    <tr>\n",
       "      <th>30</th>\n",
       "      <td>2.7-1. Ələt azad iqtisadi zonasında vergitutma və vergi nəzarəti, vergi azadolmaları və güzəştləri ilə bağlı məsələlər “Ələt azad iqtisadi zonası haqqında” Azərbaycan Respublikası Qanununun tələblərinə uyğun olaraq tənzimlənir.</td>\n",
       "    </tr>\n",
       "    <tr>\n",
       "      <th>31</th>\n",
       "      <td>2.8. Növbəti ilin dövlət büdcəsi layihəsi çərçivəsində vergi siyasəti, vergi inzibatçılığı və vergi dərəcələrinin müəyyən edilməsi ilə bağlı Azərbaycan Respublikasının Vergi Məcəlləsinə dəyişikliklər edilməsi zərurəti yarandıqda həmin qanun layihələri və layihələrdə nəzərdə tutulan vergi azadolmalarının və güzəştlərinin qiymətləndirilməsi müvafiq icra hakimiyyəti orqanının müəyyən etdiyi orqan (qurum) tərəfindən müəyyən edilmiş qaydada aparılan qiymətləndirilməsinin nəticələrinə dair arayış müvafiq icra hakimiyyəti orqanına cari ilin may ayının 1-dək, müvafiq icra hakimiyyəti orqanı tərəfindən isə Azərbaycan Respublikasının Milli Məclisinə cari ilin may ayının 15-dən gec olmayaraq təqdim edilir.</td>\n",
       "    </tr>\n",
       "    <tr>\n",
       "      <th>32</th>\n",
       "      <td>Maddə 3. Vergilərin müəyyən edilməsinin və tutulmasının əsasları</td>\n",
       "    </tr>\n",
       "    <tr>\n",
       "      <th>33</th>\n",
       "      <td>3.1. Vergilər haqqında qanunvericilik vergitutmanın ümumi, bərabər və ədalətli olmasına əsaslanmalıdır.</td>\n",
       "    </tr>\n",
       "    <tr>\n",
       "      <th>34</th>\n",
       "      <td>3.2. Vergilər iqtisadi cəhətdən əsaslandırılmalıdır.</td>\n",
       "    </tr>\n",
       "    <tr>\n",
       "      <th>35</th>\n",
       "      <td>3.3. Hər kəsin konstitusiya hüquqlarının və azadlıqlarının həyata keçirilməsinə maneçilik törədən vergilərin müəyyən edilməsinə yol verilmir.</td>\n",
       "    </tr>\n",
       "    <tr>\n",
       "      <th>36</th>\n",
       "      <td>3.4. Azərbaycan Respublikasının vahid iqtisadi məkanını pozan (xüsusilə, Azərbaycan Respublikasının ərazisində malların (işlərin, xidmətlərin) və pul vəsaitlərinin azad yerdəyişməsini bilavasitə və ya dolayısı ilə məhdudlaşdıran və ya digər yolla vergi ödəyicilərinin qanuni fəaliyyətini məhdudlaşdıran, yaxud maneçilik törədən) vergilərin müəyyən edilməsinə yol verilmir.</td>\n",
       "    </tr>\n",
       "    <tr>\n",
       "      <th>37</th>\n",
       "      <td>3.5. Heç bir şəxs əldə etdiyi mənfəətdən (gəlirdən) eyni növ vergini bir dəfədən artıq ödəməyə məcbur edilə bilməz.</td>\n",
       "    </tr>\n",
       "    <tr>\n",
       "      <th>38</th>\n",
       "      <td>3.6. Vergilər siyasi, ideoloji, etnik, konfessional və vergi ödəyiciləri arasında mövcud olan digər xüsusiyyətlər əsas götürülməklə müəyyən edilə bilməz və diskriminasiya xarakteri daşıya bilməz.</td>\n",
       "    </tr>\n",
       "    <tr>\n",
       "      <th>39</th>\n",
       "      <td>Mülkiyyət formasından və ya fiziki şəxslərin vətəndaşlığından və ya kapitalın yerindən asılı olaraq vergilərin müxtəlif dərəcələrinin müəyyən edilməsi qadağandır.</td>\n",
       "    </tr>\n",
       "    <tr>\n",
       "      <th>40</th>\n",
       "      <td>Azərbaycan Respublikasına gətirilən mallar üçün həmin malların hansı ölkədən gətirilməsindən asılı olaraq bu Məcəlləyə və gömrük qanunvericiliyinə uyğun olaraq müxtəlif gömrük rüsumu dərəcələrinin müəyyən edilməsi mümkündür.</td>\n",
       "    </tr>\n",
       "    <tr>\n",
       "      <th>41</th>\n",
       "      <td>3.7. Azərbaycan Respublikasının vergiləri yalnız bu Məcəllə ilə müəyyən edilir, onların dəyişdirilməsi və ya ləğv edilməsi bu Məcəlləyə dəyişiklik edilməsi ilə həyata keçirilir.</td>\n",
       "    </tr>\n",
       "    <tr>\n",
       "      <th>42</th>\n",
       "      <td>3.8. Heç bir şəxsin üzərinə bu Məcəllə ilə müəyyən edilən vergilərin xüsusiyyətlərinə malik olan və bu Məcəllə ilə müəyyən edilməyən, yaxud bu Məcəllə ilə müəyyən edilən qaydalardan fərqli olaraq müəyyən edilən vergilər ödəmək vəzifəsi qoyula bilməz.</td>\n",
       "    </tr>\n",
       "    <tr>\n",
       "      <th>43</th>\n",
       "      <td>3.9. Vergilər haqqında qanunvericilik elə tərzdə formalaşdırılmalıdır ki, hər kəs hansı vergiləri, hansı qaydada, nə vaxt və hansı məbləğdə ödəməli olduğunu dəqiq bilsin.</td>\n",
       "    </tr>\n",
       "    <tr>\n",
       "      <th>44</th>\n",
       "      <td>3.10. Vergi sistemi sahibkarlıq və investisiya fəaliyyətini təşviq etməlidir.</td>\n",
       "    </tr>\n",
       "    <tr>\n",
       "      <th>45</th>\n",
       "      <td>3.11. Vergilər haqqında qanunvericiliyin bütün ziddiyyətləri və aydın olmayan məqamları, vergi ödəyicisinin xeyrinə şərh edilməlidir.</td>\n",
       "    </tr>\n",
       "    <tr>\n",
       "      <th>46</th>\n",
       "      <td>3.12. Fiziki və hüquqi şəxslərin vergilərə aid normativ hüquqi aktlarla azad tanış olmaq imkanı təmin edilməlidir.</td>\n",
       "    </tr>\n",
       "    <tr>\n",
       "      <th>47</th>\n",
       "      <td>Maddə 4. Azərbaycan Respublikasında vergi sistemi</td>\n",
       "    </tr>\n",
       "    <tr>\n",
       "      <th>48</th>\n",
       "      <td>4.1. Azərbaycan Respublikasında aşağıdakı vergilər müəyyən edilir və ödənilir:</td>\n",
       "    </tr>\n",
       "    <tr>\n",
       "      <th>49</th>\n",
       "      <td>4.1.1. dövlət vergiləri;</td>\n",
       "    </tr>\n",
       "  </tbody>\n",
       "</table>\n",
       "</div>"
      ],
      "text/plain": [
       "                                                                                                                                                                                                                                                                                                                                                                                                                                                                                                                                                                                                                                                                                                                               Vergi\n",
       "0                                                                                                                                                                                                                                                                                                                                                                                                                                                                                                                                                                                                                                                                                                                                   \n",
       "1                                                                                                                                                                                                                                                                                                                                                                                                                                                                                                                                                                                                                                                                                                         Azərbaycan Respublikasının\n",
       "2                                                                                                                                                                                                                                                                                                                                                                                                                                                                                                                                                                                                                                                                                                                    Vergi Məcəlləsi\n",
       "3                                                                                                                                                                                                                                                                                                                                                                                                                                                                                                                                                                                                                                                                                                                                   \n",
       "4                                                                                                                                                                                                                                                                                                                                                                                                                                                                                                                                                                                                                                                                                                                        Ümumi hissə\n",
       "5                                                                                                                                                                                                                                                                                                                                                                                                                                                                                                                                                                                                                                                                                                                            I fəsil\n",
       "6                                                                                                                                                                                                                                                                                                                                                                                                                                                                                                                                                                                                                                                                                                                    Ümumi müddəalar\n",
       "7                                                                                                                                                                                                                                                                                                                                                                                                                                                                                                                                                                                                                                                   Maddə 1. Azərbaycan Respublikasının Vergi Məcəlləsi ilə tənzimlənən münasibətlər\n",
       "8                                                                                                                              1.1. Azərbaycan Respublikasının Vergi Məcəlləsi Azərbaycan Respublikasında vergi sistemini, vergitutmanın ümumi əsaslarını, vergilərin müəyyən edilməsi, ödənilməsi və yığılması qaydalarını, vergi ödəyicilərinin və dövlət vergi orqanlarının, habelə vergi münasibətlərinin digər iştirakçılarının vergitutma məsələləri ilə bağlı hüquq və vəzifələrini, vergi nəzarətinin forma və metodlarını, vergi qanunvericiliyinin pozulmasına görə məsuliyyəti, dövlət vergi orqanlarının və onların vəzifəli şəxslərinin hərəkətlərindən (hərəkətsizliyindən) şikayət edilməsi qaydalarını müəyyən edir.\n",
       "9                                                                                                                                                                                                                                                                                                                                                                                                                                                                                                                                                                                                     1.2. Bu Məcəllə ilə Naxçıvan Muxtar Respublikasında və bələdiyyələrdə vergitutmanın ümumi əsasları və vergilər müəyyən edilir.\n",
       "10                                                                                                                                                                                                                                                                                                                                                                                                                                         1.3. Bu Məcəllə ilə müəyyən olunan anlayışlar və qaydalar vergitutma məqsədi ilə müəyyən edilir və müstəsna olaraq bu Məcəllə və onun əsasında qəbul edilmiş digər normativ hüquqi aktlar ilə tənzimlənən vergitutma və vergi nəzarəti ilə bağlı münasibətlər hüdudlarında tətbiq olunur.\n",
       "11                                                                     1.4. Bu Məcəllənin vergitutmanın ümumi əsasları, vergilərin ödənilməsi qaydaları (ödənilməsi mənbələri istisna olmaqla), vergi ödəyicilərinin və dövlət vergi orqanlarının, habelə vergi münasibətlərinin digər iştirakçılarının vergitutma məsələləri ilə bağlı hüquq və vəzifələri, vergi nəzarətinin forma və metodları, vergi qanunvericiliyinin pozulmasına görə məsuliyyət, dövlət vergi orqanlarının və onların vəzifəli şəxslərinin hərəkətlərindən (hərəkətsizliyindən) şikayət edilməsi qaydaları ilə bağlı müddəaları məcburi dövlət sosial sığorta haqqı, icbari tibbi sığorta haqqı və işsizlikdən sığorta haqqına münasibətdə də tətbiq olunur.\n",
       "12                                                                                                                                                                                                                                                                                                                                                                                                                                                                                                                                                                                                                                                                         Maddə 2. Azərbaycan Respublikasının vergi qanunvericiliyi\n",
       "13                                                                                                                                                                                                                                                                                                                                                                                                                                                                                                          2.1. Azərbaycan Respublikasının vergi qanunvericiliyi Azərbaycan Respublikasının Konstitusiyasından, bu Məcəllədən və onlara uyğun olaraq qəbul edilmiş Azərbaycan Respublikasının qanunvericilik aktlarından ibarətdir.\n",
       "14                                                                                                                                                                                                                                                                                                                                                                                                                                                                                                                                                                                       2.2. Bu Məcəllənin əsasında və ya onun icrası məqsədi ilə qəbul edilmiş normativ hüquqi aktlar bu Məcəllənin müddəalarına zidd olmamalıdır.\n",
       "15                                                                                                                                                                                                                                                                                                                                                                                                                                                      2.3. Vergi qanunvericiliyi aktları ilə digər sahə qanunvericilik aktları arasında bu Məcəllənin 2.7-ci maddəsində nəzərdə tutulan hallar istisna olmaqla, vergitutma və vergi nəzarəti məsələləri üzrə ziddiyyət yarandıqda, vergi qanunvericiliyinin aktları tətbiq edilir.\n",
       "16                                                                                                                                                                                                                                                                                                                                                                                                                                                                                                                                                                   2.4. Aşağıdakılar istisna olunmaqla, vergi qanunvericiliyindən başqa digər qanunvericilik aktlarına vergitutma və vergi nəzarəti məsələləri daxil edilə bilməz:\n",
       "17                                                                                                                                                                                                                                                                                                                                                                                                                                                                                                                                                                                    2.4.1. Azərbaycan Respublikasının İnzibati Xətalar Məcəlləsində nəzərdə tutulan vergi münasibətlərinə aid inzibati xətalar haqqında müddəalar;\n",
       "18                                                                                                                                                                                                                                                                                                                                                                                                                                                                                                                                                                                                                      2.4.2. Azərbaycan Respublikasının Cinayət Məcəlləsində nəzərdə tutulan vergi cinayətləri haqqında müddəalar;\n",
       "19                                                                                                                                                                                                                                                                                                                                                                                                                                                                                                                                                                                                          2.4.3. vergi öhdəliklərinin üstünlüyü haqqında müflisləşmə və iflas haqqında qanunvericilikdə nəzərdə tutulan müddəalar;\n",
       "20                                                                                                                                                                                                                                                                                                                                                                                                                                                                                                                                                                                                                                                                       2.4.4. büdcə qanunvericiliyində vergilərlə bağlı müddəalar;\n",
       "21                                                                                                                                                                                                                                                                                                                                                                                                                                                                                                                                                                                                                                                         2.4.5. vergilər üzrə dövlət təminatlarının verilməsi ilə bağlı müddəalar;\n",
       "22                                                                                                                                                                                                                                                                                                                                                                                                                                                                                                                                                                                 2.4.6. hasilatın pay bölgüsü haqqında, əsas boru kəməri haqqında və digər bu qəbildən olan sazişlərdə və ya qanunlarda nəzərdə tutulan müddəalar.\n",
       "23                                                                                                                                                                                                                                                                                                                                                                                                                                                                                                                                                                                                               2.4.7. İxrac məqsədli neft-qaz fəaliyyəti və xüsusi iqtisadi zonalar haqqında qanunlarda nəzərdə tutulan müddəalar.\n",
       "24                                                                                                                                                                                                                                                                                                                                                                                                                                                                        2.4.8. “Sahibkarlıq sahəsində aparılan yoxlamaların tənzimlənməsi və sahibkarların maraqlarının müdafiəsi haqqında” Azərbaycan Respublikasının Qanununda vergi yoxlamaları (kameral vergi yoxlamaları istisna olmaqla) haqqında nəzərdə tutulan müddəalar;\n",
       "25                                                                                                                                                                                                                                                                                                                                                                                                                                                                                                                                                                                                                         2.4.9. “Ələt azad iqtisadi zonası haqqında” Azərbaycan Respublikası Qanununda nəzərdə tutulmuş müddəalar.\n",
       "26                                                                                                                                                                                                                           2.4-1. Vergi azadolmalarının və güzəştlərinin verilməsi ilə bağlı müddəalar yalnız bu Məcəllə ilə müəyyənləşdirilir. Bu Məcəllədən başqa digər normativ hüquqi aktlarda, o cümlədən bu Məcəllənin 2.4-cü maddəsində (bu Məcəllənin 2.4.9-cu maddəsi istisna olmaqla) göstərilən normativ hüquqi aktlarda vergi azadolmaları və güzəştləri ilə bağlı müddəalar nəzərdə tutula bilməz. Sahibkarlıq və investisiya fəaliyyətini təşviq edən vergi azadolmaları və güzəştləri fərdi xarakter daşımamalıdır.\n",
       "27                                                                                                                                                                                                                                                                                                                                                                                                                                2.5. Azərbaycan Respublikasının tərəfdar çıxdığı beynəlxalq müqavilələrdə vergilər haqqında bu Məcəllə ilə və ona müvafiq olaraq qəbul edilmiş normativ hüquqi aktlarla nəzərdə tutulmuş müddəalardan fərqli müddəalar müəyyən edildikdə, həmin beynəlxalq müqavilələrin müddəaları tətbiq edilir.\n",
       "28                                                                                                                                                                                                                   2.6. Azərbaycan Respublikasının tərəfdar çıxdığı ikiqat vergitutmanın aradan qaldırılması haqqında beynəlxalq müqavilə ilə bu müqavilə bağlanan dövlətin rezidentinə verilən vergi güzəştlərinə və üstünlüklərinə münasibətdə, münasibətdə vergidən yayınma məqsədilə istifadə edilirsə, o cümlədən həmin müqavilə onu bağlamış dövlətin rezidenti olmayan şəxs tərəfindən qeyd edilən güzəştlərin və üstünlüklərin alınması üçün istifadə edilirsə, bu Məcəllənin 2.5-ci maddəsinin müddəaları tətbiq olunmur.\n",
       "29                                                                                                                                                                                                      2.7. Bu Məcəllə qüvvəyə minənədək və ya o, qüvvəyə mindikdən sonra qanunla təsdiq olunmuş hasilatın pay bölgüsü haqqında, əsas boru kəməri haqqında və digər bu qəbildən olan sazişlərdə və ya qanunlarda, o cümlədən neft və qaz haqqında, ixrac məqsədli neft-qaz fəaliyyəti və xüsusi iqtisadi zonalar haqqında qanunlarda bu Məcəllədə və vergilər haqqında digər normativ hüquqi aktlarda nəzərdə tutulmuş müddəalardan fərqli müddəalar müəyyən edildikdə, həmin sazişlərin və ya qanunların müddəaları tətbiq edilir.\n",
       "30                                                                                                                                                                                                                                                                                                                                                                                                                                                                                               2.7-1. Ələt azad iqtisadi zonasında vergitutma və vergi nəzarəti, vergi azadolmaları və güzəştləri ilə bağlı məsələlər “Ələt azad iqtisadi zonası haqqında” Azərbaycan Respublikası Qanununun tələblərinə uyğun olaraq tənzimlənir.\n",
       "31  2.8. Növbəti ilin dövlət büdcəsi layihəsi çərçivəsində vergi siyasəti, vergi inzibatçılığı və vergi dərəcələrinin müəyyən edilməsi ilə bağlı Azərbaycan Respublikasının Vergi Məcəlləsinə dəyişikliklər edilməsi zərurəti yarandıqda həmin qanun layihələri və layihələrdə nəzərdə tutulan vergi azadolmalarının və güzəştlərinin qiymətləndirilməsi müvafiq icra hakimiyyəti orqanının müəyyən etdiyi orqan (qurum) tərəfindən müəyyən edilmiş qaydada aparılan qiymətləndirilməsinin nəticələrinə dair arayış müvafiq icra hakimiyyəti orqanına cari ilin may ayının 1-dək, müvafiq icra hakimiyyəti orqanı tərəfindən isə Azərbaycan Respublikasının Milli Məclisinə cari ilin may ayının 15-dən gec olmayaraq təqdim edilir.\n",
       "32                                                                                                                                                                                                                                                                                                                                                                                                                                                                                                                                                                                                                                                                  Maddə 3. Vergilərin müəyyən edilməsinin və tutulmasının əsasları\n",
       "33                                                                                                                                                                                                                                                                                                                                                                                                                                                                                                                                                                                                                           3.1. Vergilər haqqında qanunvericilik vergitutmanın ümumi, bərabər və ədalətli olmasına əsaslanmalıdır.\n",
       "34                                                                                                                                                                                                                                                                                                                                                                                                                                                                                                                                                                                                                                                                              3.2. Vergilər iqtisadi cəhətdən əsaslandırılmalıdır.\n",
       "35                                                                                                                                                                                                                                                                                                                                                                                                                                                                                                                                                                                     3.3. Hər kəsin konstitusiya hüquqlarının və azadlıqlarının həyata keçirilməsinə maneçilik törədən vergilərin müəyyən edilməsinə yol verilmir.\n",
       "36                                                                                                                                                                                                                                                                                                                                              3.4. Azərbaycan Respublikasının vahid iqtisadi məkanını pozan (xüsusilə, Azərbaycan Respublikasının ərazisində malların (işlərin, xidmətlərin) və pul vəsaitlərinin azad yerdəyişməsini bilavasitə və ya dolayısı ilə məhdudlaşdıran və ya digər yolla vergi ödəyicilərinin qanuni fəaliyyətini məhdudlaşdıran, yaxud maneçilik törədən) vergilərin müəyyən edilməsinə yol verilmir.\n",
       "37                                                                                                                                                                                                                                                                                                                                                                                                                                                                                                                                                                                                               3.5. Heç bir şəxs əldə etdiyi mənfəətdən (gəlirdən) eyni növ vergini bir dəfədən artıq ödəməyə məcbur edilə bilməz.\n",
       "38                                                                                                                                                                                                                                                                                                                                                                                                                                                                                                                               3.6. Vergilər siyasi, ideoloji, etnik, konfessional və vergi ödəyiciləri arasında mövcud olan digər xüsusiyyətlər əsas götürülməklə müəyyən edilə bilməz və diskriminasiya xarakteri daşıya bilməz.\n",
       "39                                                                                                                                                                                                                                                                                                                                                                                                                                                                                                                                                                Mülkiyyət formasından və ya fiziki şəxslərin vətəndaşlığından və ya kapitalın yerindən asılı olaraq vergilərin müxtəlif dərəcələrinin müəyyən edilməsi qadağandır.\n",
       "40                                                                                                                                                                                                                                                                                                                                                                                                                                                                                                 Azərbaycan Respublikasına gətirilən mallar üçün həmin malların hansı ölkədən gətirilməsindən asılı olaraq bu Məcəlləyə və gömrük qanunvericiliyinə uyğun olaraq müxtəlif gömrük rüsumu dərəcələrinin müəyyən edilməsi mümkündür. \n",
       "41                                                                                                                                                                                                                                                                                                                                                                                                                                                                                                                                                 3.7. Azərbaycan Respublikasının vergiləri yalnız bu Məcəllə ilə müəyyən edilir, onların dəyişdirilməsi və ya ləğv edilməsi bu Məcəlləyə dəyişiklik edilməsi ilə həyata keçirilir.\n",
       "42                                                                                                                                                                                                                                                                                                                                                                                                                                                                        3.8. Heç bir şəxsin üzərinə bu Məcəllə ilə müəyyən edilən vergilərin xüsusiyyətlərinə malik olan və bu Məcəllə ilə müəyyən edilməyən, yaxud bu Məcəllə ilə müəyyən edilən qaydalardan fərqli olaraq müəyyən edilən vergilər ödəmək vəzifəsi qoyula bilməz.\n",
       "43                                                                                                                                                                                                                                                                                                                                                                                                                                                                                                                                                        3.9. Vergilər haqqında qanunvericilik elə tərzdə formalaşdırılmalıdır ki, hər kəs hansı vergiləri, hansı qaydada, nə vaxt və hansı məbləğdə ödəməli olduğunu dəqiq bilsin.\n",
       "44                                                                                                                                                                                                                                                                                                                                                                                                                                                                                                                                                                                                                                                     3.10. Vergi sistemi sahibkarlıq və investisiya fəaliyyətini təşviq etməlidir.\n",
       "45                                                                                                                                                                                                                                                                                                                                                                                                                                                                                                                                                                                             3.11. Vergilər haqqında qanunvericiliyin bütün ziddiyyətləri və aydın olmayan məqamları, vergi ödəyicisinin xeyrinə şərh edilməlidir.\n",
       "46                                                                                                                                                                                                                                                                                                                                                                                                                                                                                                                                                                                                                3.12. Fiziki və hüquqi şəxslərin vergilərə aid normativ hüquqi aktlarla azad tanış olmaq imkanı təmin edilməlidir.\n",
       "47                                                                                                                                                                                                                                                                                                                                                                                                                                                                                                                                                                                                                                                                                 Maddə 4. Azərbaycan Respublikasında vergi sistemi\n",
       "48                                                                                                                                                                                                                                                                                                                                                                                                                                                                                                                                                                                                                                                    4.1. Azərbaycan Respublikasında aşağıdakı vergilər müəyyən edilir və ödənilir:\n",
       "49                                                                                                                                                                                                                                                                                                                                                                                                                                                                                                                                                                                                                                                                                                          4.1.1. dövlət vergiləri;"
      ]
     },
     "execution_count": 11,
     "metadata": {},
     "output_type": "execute_result"
    }
   ],
   "source": [
    "df.head(50)"
   ]
  },
  {
   "cell_type": "code",
   "execution_count": 12,
   "id": "99a30b76",
   "metadata": {},
   "outputs": [],
   "source": [
    "df.to_csv('vergimecellesi.csv')"
   ]
  },
  {
   "cell_type": "code",
   "execution_count": null,
   "id": "fb0bcaee",
   "metadata": {},
   "outputs": [],
   "source": []
  }
 ],
 "metadata": {
  "kernelspec": {
   "display_name": "Python 3 (ipykernel)",
   "language": "python",
   "name": "python3"
  },
  "language_info": {
   "codemirror_mode": {
    "name": "ipython",
    "version": 3
   },
   "file_extension": ".py",
   "mimetype": "text/x-python",
   "name": "python",
   "nbconvert_exporter": "python",
   "pygments_lexer": "ipython3",
   "version": "3.9.13"
  }
 },
 "nbformat": 4,
 "nbformat_minor": 5
}
